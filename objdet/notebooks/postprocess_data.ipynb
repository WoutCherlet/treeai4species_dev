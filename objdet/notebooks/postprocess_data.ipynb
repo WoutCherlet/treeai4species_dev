{
 "cells": [
  {
   "cell_type": "markdown",
   "id": "3fcccab6",
   "metadata": {},
   "source": [
    "Post process data for submission"
   ]
  },
  {
   "cell_type": "code",
   "execution_count": 1,
   "id": "5c347a0b",
   "metadata": {},
   "outputs": [],
   "source": [
    "import os\n",
    "import sys\n",
    "sys.path.insert(0, os.path.abspath(os.path.join('..')))\n",
    "from post_process import convert_results, post_process_results, filter_on_score, vis_submission"
   ]
  },
  {
   "cell_type": "code",
   "execution_count": null,
   "id": "bda939b0",
   "metadata": {},
   "outputs": [],
   "source": [
    "img_dir = \"path to test images\"\n",
    "\n",
    "output_path = \"output path of inference run\"\n",
    "\n",
    "results_path = os.path.join(output_path, \"inference_results.json\")\n",
    "out_path_predictions = os.path.join(output_path, \"predictions.txt\")\n",
    "out_path_predictions_vis = os.path.join(output_path, \"submission_vis\")\n",
    "\n",
    "# convert format\n",
    "convert_results(results_path, img_dir, out_path_predictions)\n",
    "\n",
    "# filter out duplicates\n",
    "out_path_postprocess = os.path.join(output_path, \"predictions_postprocess.txt\")\n",
    "post_process_results(out_path_predictions, out_path_postprocess)\n",
    "\n",
    "# filter on confidence th\n",
    "out_path_final = os.path.join(output_path, \"predictions_final.txt\")\n",
    "filter_on_score(out_path_postprocess, out_path_final, confidence_th=0.2)\n",
    "\n",
    "# visualize final submission\n",
    "vis_submission(img_dir, out_path_final, out_path_predictions_vis)"
   ]
  }
 ],
 "metadata": {
  "kernelspec": {
   "display_name": "openmmlab2",
   "language": "python",
   "name": "python3"
  },
  "language_info": {
   "codemirror_mode": {
    "name": "ipython",
    "version": 3
   },
   "file_extension": ".py",
   "mimetype": "text/x-python",
   "name": "python",
   "nbconvert_exporter": "python",
   "pygments_lexer": "ipython3",
   "version": "3.10.18"
  }
 },
 "nbformat": 4,
 "nbformat_minor": 5
}
