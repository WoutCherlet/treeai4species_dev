{
 "cells": [
  {
   "cell_type": "markdown",
   "id": "a9474c96",
   "metadata": {},
   "source": [
    "Prepare data for object detection track"
   ]
  },
  {
   "cell_type": "code",
   "execution_count": 6,
   "id": "330665a3",
   "metadata": {},
   "outputs": [],
   "source": [
    "import os\n",
    "import sys\n",
    "sys.path.insert(0, os.path.abspath(os.path.join('..')))\n",
    "from util import get_classes, data_to_coco_format"
   ]
  },
  {
   "cell_type": "code",
   "execution_count": null,
   "id": "092ac819",
   "metadata": {},
   "outputs": [],
   "source": [
    "root_dir_1 = \"path to 12_RGB_ObjDet_640_fL\"\n",
    "root_dir_2 = \"path to 5_RGB_S_320_pL\"\n",
    "root_dir_3 = \"path to 34_RGB_ObjDet_640_pL_a/34_RGB_ObjDet_640_pL\"\n",
    "root_dir_4 = \"path to 34_RGB_ObjDet_640_pL_b\"\n",
    "\n",
    "root_dirs = [root_dir_1, root_dir_2, root_dir_3, root_dir_4]\n",
    "\n",
    "classes_list, class_dict, class_frequencies = get_classes()\n",
    "\n",
    "# convert to coco format\n",
    "\n",
    "odir = \"path to output directory\"\n",
    "\n",
    "data_to_coco_format(root_dirs=root_dirs, class_dict=class_dict, output_dir=odir, masked_as_gt=True)"
   ]
  }
 ],
 "metadata": {
  "kernelspec": {
   "display_name": "openmmlab2",
   "language": "python",
   "name": "python3"
  },
  "language_info": {
   "codemirror_mode": {
    "name": "ipython",
    "version": 3
   },
   "file_extension": ".py",
   "mimetype": "text/x-python",
   "name": "python",
   "nbconvert_exporter": "python",
   "pygments_lexer": "ipython3",
   "version": "3.10.18"
  }
 },
 "nbformat": 4,
 "nbformat_minor": 5
}
