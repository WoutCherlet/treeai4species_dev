{
 "cells": [
  {
   "cell_type": "markdown",
   "id": "a9474c96",
   "metadata": {},
   "source": [
    "Prepare data for object detection track"
   ]
  }
 ],
 "metadata": {
  "language_info": {
   "name": "python"
  }
 },
 "nbformat": 4,
 "nbformat_minor": 5
}
