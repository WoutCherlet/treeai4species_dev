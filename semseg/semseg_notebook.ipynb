{
 "cells": [
  {
   "cell_type": "code",
   "execution_count": null,
   "id": "2ae8362e",
   "metadata": {},
   "outputs": [],
   "source": [
    "import os\n",
    "import numpy as np\n",
    "from PIL import Image\n",
    "import matplotlib.pyplot as plt\n",
    "\n",
    "path_test = '/Stor1/wout/TreeAI4Species/test_submission/SemSeg_test-images/images/'\n",
    "path_prediction = '/Stor1/wout/TreeAI4Species/test_submission/SemSeg_test-images/predictions/'\n",
    "filenames = os.listdir(path_test)\n",
    "\n",
    "idx = 150\n",
    "filename = filenames[idx]\n",
    "path_image = path_test + filename\n",
    "path_pred = path_prediction + filename[:-3] + 'npy'\n",
    "\n",
    "# Load image and corresponding prediction\n",
    "with Image.open(path_image) as im:\n",
    "    image = np.array(im)\n",
    "pred = np.load(path_pred)\n",
    "\n",
    "# Plot\n",
    "fig, axes = plt.subplots(1, 2, figsize=(8, 4))\n",
    "axes[0].imshow(image)\n",
    "axes[0].set_title('Image')\n",
    "axes[1].imshow(pred)\n",
    "axes[1].set_title('Prediction')\n",
    "plt.show()\n"
   ]
  }
 ],
 "metadata": {
  "language_info": {
   "name": "python"
  }
 },
 "nbformat": 4,
 "nbformat_minor": 5
}
