{
 "cells": [
  {
   "cell_type": "markdown",
   "id": "7eb9def4",
   "metadata": {},
   "source": [
    "# Data preparation"
   ]
  }
 ],
 "metadata": {
  "language_info": {
   "name": "python"
  }
 },
 "nbformat": 4,
 "nbformat_minor": 5
}
